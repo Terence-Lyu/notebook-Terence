{
 "cells": [
  {
   "cell_type": "code",
   "execution_count": 1,
   "id": "0b55ed8c",
   "metadata": {},
   "outputs": [
    {
     "ename": "SyntaxError",
     "evalue": "invalid decimal literal (2208919227.py, line 1)",
     "output_type": "error",
     "traceback": [
      "\u001b[0;36m  Cell \u001b[0;32mIn[1], line 1\u001b[0;36m\u001b[0m\n\u001b[0;31m    1.The Monty Hall problem：\u001b[0m\n\u001b[0m     ^\u001b[0m\n\u001b[0;31mSyntaxError\u001b[0m\u001b[0;31m:\u001b[0m invalid decimal literal\n"
     ]
    }
   ],
   "source": [
    "1.The Monty Hall problem： \n",
    "The Monty Hall problem is a famous probability puzzle based on a game show scenario. Here's a quick recap of the problem:\n",
    "\n",
    "You are a contestant on a game show.\n",
    "There are three doors. Behind one door is a car (your desired prize), and behind the other two doors are goats (undesirable prizes).\n",
    "You choose one door, but the host (Monty Hall), who knows what’s behind each door, opens one of the other two doors, revealing a goat.\n",
    "Monty then gives you a choice: stick with your original choice or switch to the other unopened door.\n",
    "The puzzle asks whether you should switch or stick with your initial choice.\n",
    "The solution shows that switching gives you a 2/3 chance of winning, while sticking gives you only a 1/3 chance. Let's simulate this scenario with Python.\n"
   ]
  },
  {
   "cell_type": "code",
   "execution_count": 2,
   "id": "e53bf9bd",
   "metadata": {},
   "outputs": [
    {
     "ename": "SyntaxError",
     "evalue": "unterminated string literal (detected at line 61) (775590077.py, line 61)",
     "output_type": "error",
     "traceback": [
      "\u001b[0;36m  Cell \u001b[0;32mIn[2], line 61\u001b[0;36m\u001b[0m\n\u001b[0;31m    the chatbot's code have a more detailed explaination for the code in each step which can be easier to understand by the reader\u001b[0m\n\u001b[0m               ^\u001b[0m\n\u001b[0;31mSyntaxError\u001b[0m\u001b[0;31m:\u001b[0m unterminated string literal (detected at line 61)\n"
     ]
    }
   ],
   "source": [
    "import numpy as np\n",
    "\n",
    "all_door_options = (1, 2, 3)\n",
    "my_door_choice = 1\n",
    "i_won = 0\n",
    "reps = 100000\n",
    "\n",
    "for i in range(reps):\n",
    "    secret_winning_door = np.random.choice(all_door_options)  # Randomly choose the winning door\n",
    "    \n",
    "    # If the player's choice is the winning door, Monty can reveal either of the remaining doors\n",
    "    # Remove the winning door from options and the player's choice if they differ\n",
    "    remaining_doors = list(all_door_options)\n",
    "    remaining_doors.remove(secret_winning_door)\n",
    "    \n",
    "    if my_door_choice in remaining_doors:\n",
    "        remaining_doors.remove(my_door_choice)\n",
    "    \n",
    "    # Monty reveals a goat door from the remaining doors\n",
    "    goat_door_reveal = np.random.choice(remaining_doors)\n",
    "\n",
    "    # If the player's initial choice was wrong, switch to the remaining door (which is the winning one)\n",
    "    if my_door_choice != secret_winning_door:\n",
    "        my_door_choice = secret_winning_door  # Switch to the winning door\n",
    "\n",
    "    if my_door_choice == secret_winning_door:\n",
    "        i_won += 1\n",
    "\n",
    "# Display the winning percentage\n",
    "print(i_won / reps)import numpy as np\n",
    "\n",
    "all_door_options = (1, 2, 3)\n",
    "my_door_choice = 1\n",
    "i_won = 0\n",
    "reps = 100000\n",
    "\n",
    "for i in range(reps):\n",
    "    secret_winning_door = np.random.choice(all_door_options)  # Randomly choose the winning door\n",
    "    \n",
    "    # If the player's choice is the winning door, Monty can reveal either of the remaining doors\n",
    "    # Remove the winning door from options and the player's choice if they differ\n",
    "    remaining_doors = list(all_door_options)\n",
    "    remaining_doors.remove(secret_winning_door)\n",
    "    \n",
    "    if my_door_choice in remaining_doors:\n",
    "        remaining_doors.remove(my_door_choice)\n",
    "    \n",
    "    # Monty reveals a goat door from the remaining doors\n",
    "    goat_door_reveal = np.random.choice(remaining_doors)\n",
    "\n",
    "    # If the player's initial choice was wrong, switch to the remaining door (which is the winning one)\n",
    "    if my_door_choice != secret_winning_door:\n",
    "        my_door_choice = secret_winning_door  # Switch to the winning door\n",
    "\n",
    "    if my_door_choice == secret_winning_door:\n",
    "        i_won += 1\n",
    "\n",
    "# Display the winning percentage\n",
    "print(i_won / reps)\n",
    "\n",
    "the chatbot's code have a more detailed explaination for the code in each step which can be easier to understand by the reader"
   ]
  },
  {
   "cell_type": "code",
   "execution_count": 4,
   "id": "70561f09",
   "metadata": {},
   "outputs": [
    {
     "name": "stdout",
     "output_type": "stream",
     "text": [
      "1.0\n"
     ]
    }
   ],
   "source": [
    "import numpy as np\n",
    "\n",
    "all_door_options = (1, 2, 3)\n",
    "my_door_choice = 1\n",
    "i_won = 0\n",
    "reps = 100000\n",
    "\n",
    "for i in range(reps):\n",
    "    secret_winning_door = np.random.choice(all_door_options)  # Randomly choose the winning door\n",
    "    \n",
    "    # If the player's choice is the winning door, Monty can reveal either of the remaining doors\n",
    "    # Remove the winning door from options and the player's choice if they differ\n",
    "    remaining_doors = list(all_door_options)\n",
    "    remaining_doors.remove(secret_winning_door)\n",
    "    \n",
    "    if my_door_choice in remaining_doors:\n",
    "        remaining_doors.remove(my_door_choice)\n",
    "    \n",
    "    # Monty reveals a goat door from the remaining doors\n",
    "    goat_door_reveal = np.random.choice(remaining_doors)\n",
    "\n",
    "    # If the player's initial choice was wrong, switch to the remaining door (which is the winning one)\n",
    "    if my_door_choice != secret_winning_door:\n",
    "        my_door_choice = secret_winning_door  # Switch to the winning door\n",
    "\n",
    "    if my_door_choice == secret_winning_door:\n",
    "        i_won += 1\n",
    "\n",
    "# Display the winning percentage\n",
    "print(i_won / reps)\n",
    "#chatbot history: https://chatgpt.com/c/66eb23fb-3470-8012-99a9-79f684c678c7"
   ]
  },
  {
   "cell_type": "code",
   "execution_count": null,
   "id": "44bb65da",
   "metadata": {},
   "outputs": [],
   "source": []
  }
 ],
 "metadata": {
  "kernelspec": {
   "display_name": "Python 3 (ipykernel)",
   "language": "python",
   "name": "python3"
  },
  "language_info": {
   "codemirror_mode": {
    "name": "ipython",
    "version": 3
   },
   "file_extension": ".py",
   "mimetype": "text/x-python",
   "name": "python",
   "nbconvert_exporter": "python",
   "pygments_lexer": "ipython3",
   "version": "3.11.6"
  }
 },
 "nbformat": 4,
 "nbformat_minor": 5
}
