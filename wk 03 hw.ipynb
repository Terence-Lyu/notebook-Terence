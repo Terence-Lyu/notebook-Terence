{
 "cells": [
  {
   "cell_type": "code",
   "execution_count": 1,
   "id": "0b55ed8c",
   "metadata": {},
   "outputs": [
    {
     "ename": "SyntaxError",
     "evalue": "invalid decimal literal (2208919227.py, line 1)",
     "output_type": "error",
     "traceback": [
      "\u001b[0;36m  Cell \u001b[0;32mIn[1], line 1\u001b[0;36m\u001b[0m\n\u001b[0;31m    1.The Monty Hall problem：\u001b[0m\n\u001b[0m     ^\u001b[0m\n\u001b[0;31mSyntaxError\u001b[0m\u001b[0;31m:\u001b[0m invalid decimal literal\n"
     ]
    }
   ],
   "source": [
    "1.The Monty Hall problem： \n",
    "The Monty Hall problem is a famous probability puzzle based on a game show scenario. Here's a quick recap of the problem:\n",
    "\n",
    "You are a contestant on a game show.\n",
    "There are three doors. Behind one door is a car (your desired prize), and behind the other two doors are goats (undesirable prizes).\n",
    "You choose one door, but the host (Monty Hall), who knows what’s behind each door, opens one of the other two doors, revealing a goat.\n",
    "Monty then gives you a choice: stick with your original choice or switch to the other unopened door.\n",
    "The puzzle asks whether you should switch or stick with your initial choice.\n",
    "The solution shows that switching gives you a 2/3 chance of winning, while sticking gives you only a 1/3 chance. Let's simulate this scenario with Python.\n"
   ]
  },
  {
   "cell_type": "code",
   "execution_count": 2,
   "id": "e53bf9bd",
   "metadata": {},
   "outputs": [
    {
     "ename": "SyntaxError",
     "evalue": "unterminated string literal (detected at line 61) (775590077.py, line 61)",
     "output_type": "error",
     "traceback": [
      "\u001b[0;36m  Cell \u001b[0;32mIn[2], line 61\u001b[0;36m\u001b[0m\n\u001b[0;31m    the chatbot's code have a more detailed explaination for the code in each step which can be easier to understand by the reader\u001b[0m\n\u001b[0m               ^\u001b[0m\n\u001b[0;31mSyntaxError\u001b[0m\u001b[0;31m:\u001b[0m unterminated string literal (detected at line 61)\n"
     ]
    }
   ],
   "source": [
    "2. import numpy as np\n",
    "\n",
    "all_door_options = (1, 2, 3)\n",
    "my_door_choice = 1\n",
    "i_won = 0\n",
    "reps = 100000\n",
    "\n",
    "for i in range(reps):\n",
    "    secret_winning_door = np.random.choice(all_door_options)  # Randomly choose the winning door\n",
    "    \n",
    "    # If the player's choice is the winning door, Monty can reveal either of the remaining doors\n",
    "    # Remove the winning door from options and the player's choice if they differ\n",
    "    remaining_doors = list(all_door_options)\n",
    "    remaining_doors.remove(secret_winning_door)\n",
    "    \n",
    "    if my_door_choice in remaining_doors:\n",
    "        remaining_doors.remove(my_door_choice)\n",
    "    \n",
    "    # Monty reveals a goat door from the remaining doors\n",
    "    goat_door_reveal = np.random.choice(remaining_doors)\n",
    "\n",
    "    # If the player's initial choice was wrong, switch to the remaining door (which is the winning one)\n",
    "    if my_door_choice != secret_winning_door:\n",
    "        my_door_choice = secret_winning_door  # Switch to the winning door\n",
    "\n",
    "    if my_door_choice == secret_winning_door:\n",
    "        i_won += 1\n",
    "\n",
    "# Display the winning percentage\n",
    "print(i_won / reps)import numpy as np\n",
    "\n",
    "all_door_options = (1, 2, 3)\n",
    "my_door_choice = 1\n",
    "i_won = 0\n",
    "reps = 100000\n",
    "\n",
    "for i in range(reps):\n",
    "    secret_winning_door = np.random.choice(all_door_options)  # Randomly choose the winning door\n",
    "    \n",
    "    # If the player's choice is the winning door, Monty can reveal either of the remaining doors\n",
    "    # Remove the winning door from options and the player's choice if they differ\n",
    "    remaining_doors = list(all_door_options)\n",
    "    remaining_doors.remove(secret_winning_door)\n",
    "    \n",
    "    if my_door_choice in remaining_doors:\n",
    "        remaining_doors.remove(my_door_choice)\n",
    "    \n",
    "    # Monty reveals a goat door from the remaining doors\n",
    "    goat_door_reveal = np.random.choice(remaining_doors)\n",
    "\n",
    "    # If the player's initial choice was wrong, switch to the remaining door (which is the winning one)\n",
    "    if my_door_choice != secret_winning_door:\n",
    "        my_door_choice = secret_winning_door  # Switch to the winning door\n",
    "\n",
    "    if my_door_choice == secret_winning_door:\n",
    "        i_won += 1\n",
    "\n",
    "# Display the winning percentage\n",
    "print(i_won / reps)\n",
    "\n",
    "the chatbot's code have a more detailed explaination for the code in each step which can be easier to understand by the reader"
   ]
  },
  {
   "cell_type": "code",
   "execution_count": 4,
   "id": "70561f09",
   "metadata": {},
   "outputs": [
    {
     "name": "stdout",
     "output_type": "stream",
     "text": [
      "1.0\n"
     ]
    }
   ],
   "source": [
    "3. import numpy as np\n",
    "\n",
    "all_door_options = (1, 2, 3)\n",
    "my_door_choice = 1\n",
    "i_won = 0\n",
    "reps = 100000\n",
    "\n",
    "for i in range(reps):\n",
    "    secret_winning_door = np.random.choice(all_door_options)  # Randomly choose the winning door\n",
    "    \n",
    "    # If the player's choice is the winning door, Monty can reveal either of the remaining doors\n",
    "    # Remove the winning door from options and the player's choice if they differ\n",
    "    remaining_doors = list(all_door_options)\n",
    "    remaining_doors.remove(secret_winning_door)\n",
    "    \n",
    "    if my_door_choice in remaining_doors:\n",
    "        remaining_doors.remove(my_door_choice)\n",
    "    \n",
    "    # Monty reveals a goat door from the remaining doors\n",
    "    goat_door_reveal = np.random.choice(remaining_doors)\n",
    "\n",
    "    # If the player's initial choice was wrong, switch to the remaining door (which is the winning one)\n",
    "    if my_door_choice != secret_winning_door:\n",
    "        my_door_choice = secret_winning_door  # Switch to the winning door\n",
    "\n",
    "    if my_door_choice == secret_winning_door:\n",
    "        i_won += 1\n",
    "\n",
    "# Display the winning percentage\n",
    "print(i_won / reps)\n",
    "#chatbot history: https://chatgpt.com/c/66eb23fb-3470-8012-99a9-79f684c678c7"
   ]
  },
  {
   "cell_type": "code",
   "execution_count": 1,
   "id": "44bb65da",
   "metadata": {},
   "outputs": [
    {
     "ename": "SyntaxError",
     "evalue": "invalid character '：' (U+FF1A) (4153428154.py, line 4)",
     "output_type": "error",
     "traceback": [
      "\u001b[0;36m  Cell \u001b[0;32mIn[1], line 4\u001b[0;36m\u001b[0m\n\u001b[0;31m    chatbot history：https://chatgpt.com/c/66ec86d2-7150-8012-95e4-9ff36cd312e9\u001b[0m\n\u001b[0m                   ^\u001b[0m\n\u001b[0;31mSyntaxError\u001b[0m\u001b[0;31m:\u001b[0m invalid character '：' (U+FF1A)\n"
     ]
    }
   ],
   "source": [
    "4. the Markov chains is a mathematical model which describes a system shift ramdomly from different states. The main characteristic of the Markov\n",
    "chains is the probability of transitioning to the next state depends only on the current state, which mean the system will not influence by\n",
    "the past condition.\n",
    "chatbot history：https://chatgpt.com/c/66ec86d2-7150-8012-95e4-9ff36cd312e9"
   ]
  },
  {
   "cell_type": "code",
   "execution_count": 2,
   "id": "de21e580",
   "metadata": {},
   "outputs": [
    {
     "ename": "SyntaxError",
     "evalue": "invalid syntax (1250585843.py, line 1)",
     "output_type": "error",
     "traceback": [
      "\u001b[0;36m  Cell \u001b[0;32mIn[2], line 1\u001b[0;36m\u001b[0m\n\u001b[0;31m    5. import numpy as np\u001b[0m\n\u001b[0m       ^\u001b[0m\n\u001b[0;31mSyntaxError\u001b[0m\u001b[0;31m:\u001b[0m invalid syntax\n"
     ]
    }
   ],
   "source": [
    "5. import numpy as np\n",
    "import matplotlib.pyplot as plt\n",
    "\n",
    "# Parameters\n",
    "all_door_options = (1, 2, 3)  # Tuple representing the three doors\n",
    "reps = 100000  # Number of repetitions for the simulation\n",
    "\n",
    "# Counters for wins\n",
    "switch_wins = 0\n",
    "stay_wins = 0\n",
    "\n",
    "# Lists to store win probabilities for plotting\n",
    "switch_probabilities = []\n",
    "stay_probabilities = []\n",
    "\n",
    "# Simulation loop\n",
    "for i in range(reps):\n",
    "    # Randomly choose an initial door\n",
    "    my_door_choice = np.random.choice(all_door_options)\n",
    "    \n",
    "    # Randomly assign the winning door\n",
    "    secret_winning_door = np.random.choice(all_door_options)\n",
    "    \n",
    "    # Create a list of doors that are not the winning door\n",
    "    all_door_options_list = list(all_door_options)\n",
    "    all_door_options_list.remove(secret_winning_door)\n",
    "    \n",
    "    # Host removes a goat door (not the chosen door and not the winning door)\n",
    "    try:\n",
    "        all_door_options_list.remove(my_door_choice)\n",
    "    except ValueError:\n",
    "        pass\n",
    "    goat_door_reveal = np.random.choice(all_door_options_list)\n",
    "    \n",
    "    # Always switch strategy\n",
    "    remaining_doors = [door for door in all_door_options if door not in (my_door_choice, goat_door_reveal)]\n",
    "    switch_choice = remaining_doors[0]\n",
    "    \n",
    "    if switch_choice == secret_winning_door:\n",
    "        switch_wins += 1\n",
    "    \n",
    "    # Always stay strategy\n",
    "    if my_door_choice == secret_winning_door:\n",
    "        stay_wins += 1\n",
    "    \n",
    "    # Calculate and store win probabilities\n",
    "    switch_probabilities.append(switch_wins / (i + 1))\n",
    "    stay_probabilities.append(stay_wins / (i + 1))\n",
    "\n",
    "# Display final results\n",
    "print(f\"Total simulations: {reps}\")\n",
    "print(f\"Switch Strategy - Wins: {switch_wins}, Probability: {switch_wins/reps:.4f}\")\n",
    "print(f\"Stay Strategy - Wins: {stay_wins}, Probability: {stay_wins/reps:.4f}\")\n",
    "\n",
    "# Visualization of convergence\n",
    "plt.figure(figsize=(12, 6))\n",
    "plt.plot(range(1, reps + 1), switch_probabilities, label='Switch Strategy', color='blue')\n",
    "plt.plot(range(1, reps + 1), stay_probabilities, label='Stay Strategy', color='red')\n",
    "plt.axhline(2/3, color='blue', linestyle='dashed', label='Expected Switch Probability (2/3)')\n",
    "plt.axhline(1/3, color='red', linestyle='dashed', label='Expected Stay Probability (1/3)')\n",
    "plt.xlabel('Number of Simulations')\n",
    "plt.ylabel('Winning Probability')\n",
    "plt.title('Convergence of Win Probability in Monty Hall Problem')\n",
    "plt.legend()\n",
    "plt.grid(True)\n",
    "plt.show()\n",
    "\n",
    "Random Initial Choice\n",
    "\n",
    "The player now randomly selects an initial door (my_door_choice = np.random.choice(all_door_options)).\n",
    "Switch and Stay Strategies.\n",
    "\n",
    "We simulate both strategies: always switching (switch_choice) and always staying (my_door_choice).\n",
    "For the switch strategy, we choose the remaining door after one door is revealed as a goat (remaining_doors).\n",
    "Tracking Wins\n",
    "\n",
    "switch_wins and stay_wins keep track of the number of times each strategy wins.\n",
    "Win Probabilities.\n",
    "\n",
    "Lists switch_probabilities and stay_probabilities store the running win probabilities for plotting.\n",
    "Visualization.\n",
    "\n",
    "The plot shows how the win probabilities converge to their expected values (2/3 for switching and 1/3 for staying) as the number of simulations increases.\n",
    "Final Results.\n",
    "\n",
    "The code prints the total number of wins and the final win probabilities for each strategy.\n",
    "\n",
    "chatbot history:https://chatgpt.com/c/66ec86d2-7150-8012-95e4-9ff36cd312e9"
   ]
  },
  {
   "cell_type": "code",
   "execution_count": 3,
   "id": "edb4a330",
   "metadata": {},
   "outputs": [
    {
     "ename": "SyntaxError",
     "evalue": "invalid syntax (671686074.py, line 1)",
     "output_type": "error",
     "traceback": [
      "\u001b[0;36m  Cell \u001b[0;32mIn[3], line 1\u001b[0;36m\u001b[0m\n\u001b[0;31m    6. the chatbot can give a quick explaination to my questions. Even it is difficult to understand, I can let the chatbot to give another answer\u001b[0m\n\u001b[0m       ^\u001b[0m\n\u001b[0;31mSyntaxError\u001b[0m\u001b[0;31m:\u001b[0m invalid syntax\n"
     ]
    }
   ],
   "source": [
    "6. the chatbot can give a quick explaination to my questions. Even it is difficult to understand, I can let the chatbot to give another answer\n",
    "from different perspectives. \n",
    "The chatbot can always give an accurate answer due to my questions.\n",
    "The explaination from the chatbot can help me understand the code to some extent."
   ]
  },
  {
   "cell_type": "code",
   "execution_count": 4,
   "id": "e99e8559",
   "metadata": {},
   "outputs": [
    {
     "ename": "SyntaxError",
     "evalue": "invalid decimal literal (2838184106.py, line 1)",
     "output_type": "error",
     "traceback": [
      "\u001b[0;36m  Cell \u001b[0;32mIn[4], line 1\u001b[0;36m\u001b[0m\n\u001b[0;31m    7.The AI driven assistance tool can provide useful help for people who first learn coding.It help the learner develop a basic understanding of\u001b[0m\n\u001b[0m     ^\u001b[0m\n\u001b[0;31mSyntaxError\u001b[0m\u001b[0;31m:\u001b[0m invalid decimal literal\n"
     ]
    }
   ],
   "source": [
    "7.The AI driven assistance tool can provide useful help for people who first learn coding.It help the learner develop a basic understanding of\n",
    "code and statistic. "
   ]
  },
  {
   "cell_type": "code",
   "execution_count": 5,
   "id": "27a650b5",
   "metadata": {},
   "outputs": [
    {
     "ename": "SyntaxError",
     "evalue": "invalid decimal literal (2036711972.py, line 1)",
     "output_type": "error",
     "traceback": [
      "\u001b[0;36m  Cell \u001b[0;32mIn[5], line 1\u001b[0;36m\u001b[0m\n\u001b[0;31m    8.the data and statistic are becoming more and more important and relevant in modern world.Firstly, coding plays an important role in\u001b[0m\n\u001b[0m     ^\u001b[0m\n\u001b[0;31mSyntaxError\u001b[0m\u001b[0;31m:\u001b[0m invalid decimal literal\n"
     ]
    }
   ],
   "source": [
    "8.the data and statistic are becoming more and more important and relevant in modern world.Firstly, coding plays an important role in\n",
    "dealing with the data.And the statistic helps to analyze the data in order to make prediction about the future.\n",
    "It is difficult to become a statician or data scientist without coding skills because the coding skills is the basics for the statician.\n",
    "chatbot history:https://chatgpt.com/c/66ec9377-15cc-8012-9ce5-b71e885b44a7"
   ]
  },
  {
   "cell_type": "code",
   "execution_count": null,
   "id": "c052f240",
   "metadata": {},
   "outputs": [],
   "source": [
    "9. mostly"
   ]
  }
 ],
 "metadata": {
  "kernelspec": {
   "display_name": "Python 3 (ipykernel)",
   "language": "python",
   "name": "python3"
  },
  "language_info": {
   "codemirror_mode": {
    "name": "ipython",
    "version": 3
   },
   "file_extension": ".py",
   "mimetype": "text/x-python",
   "name": "python",
   "nbconvert_exporter": "python",
   "pygments_lexer": "ipython3",
   "version": "3.11.6"
  }
 },
 "nbformat": 4,
 "nbformat_minor": 5
}
